{
 "cells": [
  {
   "cell_type": "code",
   "execution_count": 6,
   "metadata": {
    "executionInfo": {
     "elapsed": 310,
     "status": "ok",
     "timestamp": 1605824050632,
     "user": {
      "displayName": "Bijayani Sanghamitra Mishra",
      "photoUrl": "https://lh3.googleusercontent.com/a-/AOh14GjXbd-WSvn1uoy2t6WqTaqJOcmOFf36QnNhM6J3Zw=s64",
      "userId": "00155184308005087027"
     },
     "user_tz": 480
    },
    "id": "KslaNGe-ynuR"
   },
   "outputs": [],
   "source": [
    "import numpy as np\n",
    "import pandas as pd\n",
    "from sklearn.preprocessing import StandardScaler\n",
    "from sklearn.decomposition import PCA\n",
    "from imblearn.over_sampling import SMOTE\n",
    "from sklearn.model_selection import train_test_split\n",
    "from sklearn.metrics import f1_score\n",
    "from sklearn.feature_selection import SelectFromModel\n",
    "from sklearn.ensemble import RandomForestClassifier, ExtraTreesClassifier, VotingClassifier\n",
    "from sklearn import metrics\n",
    "from sklearn.metrics import classification_report\n",
    "import warnings\n",
    "warnings.filterwarnings('ignore')\n",
    "from sklearn.feature_selection import SelectKBest, f_classif"
   ]
  },
  {
   "cell_type": "code",
   "execution_count": 2,
   "metadata": {
    "colab": {
     "base_uri": "https://localhost:8080/"
    },
    "executionInfo": {
     "elapsed": 40068,
     "status": "ok",
     "timestamp": 1605823991064,
     "user": {
      "displayName": "Bijayani Sanghamitra Mishra",
      "photoUrl": "https://lh3.googleusercontent.com/a-/AOh14GjXbd-WSvn1uoy2t6WqTaqJOcmOFf36QnNhM6J3Zw=s64",
      "userId": "00155184308005087027"
     },
     "user_tz": 480
    },
    "id": "seIP_uqzehWV",
    "outputId": "b8fffcab-739c-4051-bb5b-1c512ca9c064"
   },
   "outputs": [
    {
     "name": "stdout",
     "output_type": "stream",
     "text": [
      "Mounted at /content/drive\n"
     ]
    }
   ],
   "source": [
    "from google.colab import drive\n",
    "drive.mount('/content/drive')"
   ]
  },
  {
   "cell_type": "code",
   "execution_count": 3,
   "metadata": {
    "executionInfo": {
     "elapsed": 8218,
     "status": "ok",
     "timestamp": 1605824000144,
     "user": {
      "displayName": "Bijayani Sanghamitra Mishra",
      "photoUrl": "https://lh3.googleusercontent.com/a-/AOh14GjXbd-WSvn1uoy2t6WqTaqJOcmOFf36QnNhM6J3Zw=s64",
      "userId": "00155184308005087027"
     },
     "user_tz": 480
    },
    "id": "wfgV4y7Dzhoi"
   },
   "outputs": [],
   "source": [
    "# Read the input data\n",
    "trainData = pd.read_csv('/content/drive/My Drive/Colab/255/Data/train.dat', ' ', header=None, float_precision='high')\n",
    "testData= pd.read_csv('/content/drive/My Drive/Colab/255/Data/test.dat', ' ', header=None, float_precision='high')\n",
    "labels = pd.read_csv('/content/drive/My Drive/Colab/255/Data/train.labels', header=None, names=['labels'])"
   ]
  },
  {
   "cell_type": "code",
   "execution_count": 4,
   "metadata": {
    "executionInfo": {
     "elapsed": 770,
     "status": "ok",
     "timestamp": 1605824000925,
     "user": {
      "displayName": "Bijayani Sanghamitra Mishra",
      "photoUrl": "https://lh3.googleusercontent.com/a-/AOh14GjXbd-WSvn1uoy2t6WqTaqJOcmOFf36QnNhM6J3Zw=s64",
      "userId": "00155184308005087027"
     },
     "user_tz": 480
    },
    "id": "1PsCnG6cS6Wr"
   },
   "outputs": [],
   "source": [
    "#Normalizing the data.\n",
    "scaler = StandardScaler()\n",
    "train_x = StandardScaler().fit_transform(trainData)\n",
    "test_x = StandardScaler().fit_transform(testData)"
   ]
  },
  {
   "cell_type": "code",
   "execution_count": 8,
   "metadata": {
    "colab": {
     "base_uri": "https://localhost:8080/"
    },
    "executionInfo": {
     "elapsed": 456,
     "status": "ok",
     "timestamp": 1605824065000,
     "user": {
      "displayName": "Bijayani Sanghamitra Mishra",
      "photoUrl": "https://lh3.googleusercontent.com/a-/AOh14GjXbd-WSvn1uoy2t6WqTaqJOcmOFf36QnNhM6J3Zw=s64",
      "userId": "00155184308005087027"
     },
     "user_tz": 480
    },
    "id": "D6HweDNZHw34",
    "outputId": "7e6991db-8b6b-4205-f413-d45615cf1519"
   },
   "outputs": [
    {
     "name": "stdout",
     "output_type": "stream",
     "text": [
      "(18000, 48)\n",
      "(3000, 48)\n"
     ]
    }
   ],
   "source": [
    "#Dimensionality Reduction\n",
    "\n",
    "# pca = PCA(n_components=0.90) \n",
    "# pca_train_x = pca.fit_transform(train_x)\n",
    "# pca_test_x = pca.transform(test_x)\n",
    "\n",
    "#reduce dimensionality of train data \n",
    "featureSelector = SelectKBest(f_classif, k=48)\n",
    "Xtrain = featureSelector.fit_transform(trainData,labels)\n",
    "print(Xtrain.shape)\n",
    "#reduce dimensionality of test data \n",
    "Xtest = featureSelector.transform(testData)\n",
    "print(Xtest.shape)"
   ]
  },
  {
   "cell_type": "code",
   "execution_count": 9,
   "metadata": {
    "executionInfo": {
     "elapsed": 1333,
     "status": "ok",
     "timestamp": 1605824068623,
     "user": {
      "displayName": "Bijayani Sanghamitra Mishra",
      "photoUrl": "https://lh3.googleusercontent.com/a-/AOh14GjXbd-WSvn1uoy2t6WqTaqJOcmOFf36QnNhM6J3Zw=s64",
      "userId": "00155184308005087027"
     },
     "user_tz": 480
    },
    "id": "fRusazWvzh8x"
   },
   "outputs": [],
   "source": [
    "#Handling unbalance data\n",
    "spl = SMOTE(random_state=42,k_neighbors=1, n_jobs=1)\n",
    "trainX = np.array(Xtrain)\n",
    "trainY = np.array(labels)\n",
    "x_result, y_result = spl.fit_sample(trainX, trainY)"
   ]
  },
  {
   "cell_type": "code",
   "execution_count": 10,
   "metadata": {
    "colab": {
     "base_uri": "https://localhost:8080/"
    },
    "executionInfo": {
     "elapsed": 433,
     "status": "ok",
     "timestamp": 1605824073042,
     "user": {
      "displayName": "Bijayani Sanghamitra Mishra",
      "photoUrl": "https://lh3.googleusercontent.com/a-/AOh14GjXbd-WSvn1uoy2t6WqTaqJOcmOFf36QnNhM6J3Zw=s64",
      "userId": "00155184308005087027"
     },
     "user_tz": 480
    },
    "id": "UUmmb9C-SJro",
    "outputId": "2efd2dc5-c784-4475-91bd-2078b660558e"
   },
   "outputs": [
    {
     "data": {
      "text/plain": [
       "(88410, 48)"
      ]
     },
     "execution_count": 10,
     "metadata": {
      "tags": []
     },
     "output_type": "execute_result"
    }
   ],
   "source": [
    "x_result.shape"
   ]
  },
  {
   "cell_type": "code",
   "execution_count": 11,
   "metadata": {
    "executionInfo": {
     "elapsed": 264,
     "status": "ok",
     "timestamp": 1605824075678,
     "user": {
      "displayName": "Bijayani Sanghamitra Mishra",
      "photoUrl": "https://lh3.googleusercontent.com/a-/AOh14GjXbd-WSvn1uoy2t6WqTaqJOcmOFf36QnNhM6J3Zw=s64",
      "userId": "00155184308005087027"
     },
     "user_tz": 480
    },
    "id": "IgTVS2ozKhaK"
   },
   "outputs": [],
   "source": [
    "#Spliting Input data intot Training data and validation data.\n",
    "training_data, validation_data,training_labels, validation_labels = train_test_split(x_result, y_result, test_size=0.2)"
   ]
  },
  {
   "cell_type": "markdown",
   "metadata": {
    "id": "eVH6jWl2USp6"
   },
   "source": []
  },
  {
   "cell_type": "code",
   "execution_count": 36,
   "metadata": {
    "colab": {
     "base_uri": "https://localhost:8080/"
    },
    "executionInfo": {
     "elapsed": 16841,
     "status": "ok",
     "timestamp": 1605825155774,
     "user": {
      "displayName": "Bijayani Sanghamitra Mishra",
      "photoUrl": "https://lh3.googleusercontent.com/a-/AOh14GjXbd-WSvn1uoy2t6WqTaqJOcmOFf36QnNhM6J3Zw=s64",
      "userId": "00155184308005087027"
     },
     "user_tz": 480
    },
    "id": "ajEY6qSU0zow",
    "outputId": "4390f3dc-72e7-4845-a547-a73e6f21709a"
   },
   "outputs": [
    {
     "name": "stdout",
     "output_type": "stream",
     "text": [
      "              precision    recall  f1-score   support\n",
      "\n",
      "           1       0.81      0.80      0.81      1803\n",
      "           2       0.80      0.77      0.79      1801\n",
      "           3       0.95      0.98      0.96      1802\n",
      "           4       0.99      1.00      1.00      1722\n",
      "           5       1.00      1.00      1.00      1725\n",
      "           6       1.00      1.00      1.00      1751\n",
      "           7       1.00      1.00      1.00      1786\n",
      "           8       0.98      0.99      0.98      1781\n",
      "          10       1.00      1.00      1.00      1784\n",
      "          11       1.00      1.00      1.00      1727\n",
      "\n",
      "    accuracy                           0.95     17682\n",
      "   macro avg       0.95      0.95      0.95     17682\n",
      "weighted avg       0.95      0.95      0.95     17682\n",
      "\n",
      "Random Forest Classifier Testing F1 score = 0.9541933635487496\n"
     ]
    }
   ],
   "source": [
    "#Random Forest Classifier\n",
    "# changes from 100 to 200 remove the random-state = 0\n",
    "rfClf = RandomForestClassifier(n_estimators=100, random_state = 0, n_jobs=-1)\n",
    "rfClf.fit(training_data, training_labels)\n",
    "predictionsRF = rfClf.predict(validation_data)\n",
    "f1ScoreRf = metrics.f1_score(predictionsRF,validation_labels, average='macro')\n",
    "print(classification_report(validation_labels,predictionsRF))\n",
    "print('Random Forest Classifier Testing F1 score =', f1ScoreRf)"
   ]
  },
  {
   "cell_type": "code",
   "execution_count": 37,
   "metadata": {
    "colab": {
     "base_uri": "https://localhost:8080/"
    },
    "executionInfo": {
     "elapsed": 3150,
     "status": "ok",
     "timestamp": 1605825161603,
     "user": {
      "displayName": "Bijayani Sanghamitra Mishra",
      "photoUrl": "https://lh3.googleusercontent.com/a-/AOh14GjXbd-WSvn1uoy2t6WqTaqJOcmOFf36QnNhM6J3Zw=s64",
      "userId": "00155184308005087027"
     },
     "user_tz": 480
    },
    "id": "GFLVCz-K019C",
    "outputId": "1a1be81b-ed8c-4ada-fe83-b41cc1d0cf2e"
   },
   "outputs": [
    {
     "name": "stdout",
     "output_type": "stream",
     "text": [
      "              precision    recall  f1-score   support\n",
      "\n",
      "           1       0.84      0.68      0.75      1803\n",
      "           2       0.78      0.72      0.75      1801\n",
      "           3       0.88      0.99      0.93      1802\n",
      "           4       0.97      1.00      0.99      1722\n",
      "           5       0.99      1.00      0.99      1725\n",
      "           6       1.00      1.00      1.00      1751\n",
      "           7       1.00      1.00      1.00      1786\n",
      "           8       0.91      1.00      0.95      1781\n",
      "          10       1.00      1.00      1.00      1784\n",
      "          11       1.00      1.00      1.00      1727\n",
      "\n",
      "    accuracy                           0.94     17682\n",
      "   macro avg       0.94      0.94      0.94     17682\n",
      "weighted avg       0.94      0.94      0.93     17682\n",
      "\n",
      "K Nearest Neigbhor Testing F1 score = 0.9358065214273672\n"
     ]
    }
   ],
   "source": [
    "#KNN classifier\n",
    "from sklearn.neighbors import KNeighborsClassifier\n",
    "knnClf = KNeighborsClassifier(n_neighbors=3)\n",
    "knnClf.fit(training_data,training_labels)\n",
    "predictionsKnn = knnClf.predict(validation_data)\n",
    "f1ScoreKnn = metrics.f1_score(predictionsKnn,validation_labels, average='macro')\n",
    "print(classification_report(validation_labels,predictionsKnn))\n",
    "print('K Nearest Neigbhor Testing F1 score =', f1ScoreKnn )"
   ]
  },
  {
   "cell_type": "code",
   "execution_count": 38,
   "metadata": {
    "colab": {
     "base_uri": "https://localhost:8080/"
    },
    "executionInfo": {
     "elapsed": 40280,
     "status": "ok",
     "timestamp": 1605825204236,
     "user": {
      "displayName": "Bijayani Sanghamitra Mishra",
      "photoUrl": "https://lh3.googleusercontent.com/a-/AOh14GjXbd-WSvn1uoy2t6WqTaqJOcmOFf36QnNhM6J3Zw=s64",
      "userId": "00155184308005087027"
     },
     "user_tz": 480
    },
    "id": "crRjaaZndo5A",
    "outputId": "7897b797-972b-401b-b99c-daf113b45fd9"
   },
   "outputs": [
    {
     "name": "stdout",
     "output_type": "stream",
     "text": [
      "              precision    recall  f1-score   support\n",
      "\n",
      "           1       0.83      0.82      0.83      1803\n",
      "           2       0.83      0.81      0.82      1801\n",
      "           3       0.97      0.99      0.98      1802\n",
      "           4       1.00      1.00      1.00      1722\n",
      "           5       1.00      1.00      1.00      1725\n",
      "           6       1.00      1.00      1.00      1751\n",
      "           7       1.00      1.00      1.00      1786\n",
      "           8       0.98      1.00      0.99      1781\n",
      "          10       1.00      1.00      1.00      1784\n",
      "          11       1.00      1.00      1.00      1727\n",
      "\n",
      "    accuracy                           0.96     17682\n",
      "   macro avg       0.96      0.96      0.96     17682\n",
      "weighted avg       0.96      0.96      0.96     17682\n",
      "\n",
      "Extra Tree Classifier Testing F1 score = 0.9611614270044064\n"
     ]
    }
   ],
   "source": [
    "#Extra Tree Classifier\n",
    "extClf = ExtraTreesClassifier(n_estimators=500)\n",
    "extClf.fit(training_data,training_labels)\n",
    "predictionsExt = extClf.predict(validation_data)\n",
    "f1ScoreExt = metrics.f1_score(predictionsExt,validation_labels, average='macro')\n",
    "print(classification_report(validation_labels,predictionsExt))\n",
    "print('Extra Tree Classifier Testing F1 score =', f1ScoreExt )"
   ]
  },
  {
   "cell_type": "code",
   "execution_count": null,
   "metadata": {
    "colab": {
     "base_uri": "https://localhost:8080/"
    },
    "executionInfo": {
     "elapsed": 865601,
     "status": "ok",
     "timestamp": 1605778090197,
     "user": {
      "displayName": "Bijayani Sanghamitra Mishra",
      "photoUrl": "https://lh3.googleusercontent.com/a-/AOh14GjXbd-WSvn1uoy2t6WqTaqJOcmOFf36QnNhM6J3Zw=s64",
      "userId": "00155184308005087027"
     },
     "user_tz": 480
    },
    "id": "EDghcz8tigvq",
    "outputId": "55a494ef-49dc-4820-a16e-eaaca839b4ed"
   },
   "outputs": [
    {
     "name": "stdout",
     "output_type": "stream",
     "text": [
      "              precision    recall  f1-score   support\n",
      "\n",
      "           1       0.35      0.40      0.37      1762\n",
      "           2       0.33      0.20      0.25      1774\n",
      "           3       0.30      0.38      0.34      1768\n",
      "           4       0.45      0.30      0.36      1767\n",
      "           5       0.60      0.50      0.55      1805\n",
      "           6       0.97      1.00      0.98      1791\n",
      "           7       0.78      0.83      0.80      1752\n",
      "           8       0.34      0.45      0.39      1724\n",
      "          10       0.99      1.00      1.00      1800\n",
      "          11       0.82      0.87      0.84      1739\n",
      "\n",
      "    accuracy                           0.59     17682\n",
      "   macro avg       0.59      0.59      0.59     17682\n",
      "weighted avg       0.59      0.59      0.59     17682\n",
      "\n",
      "Extra Tree Classifier Testing F1 score = 0.5873791877426872\n"
     ]
    }
   ],
   "source": [
    "# #Extra Tree Classifier\n",
    "# from sklearn import svm\n",
    "# svmClf = svm.SVC()\n",
    "# svmClf.fit(training_data,training_labels)\n",
    "# predictionsExt = svmClf.predict(validation_data)\n",
    "# f1ScoreExt = metrics.f1_score(predictionsExt,validation_labels, average='macro')\n",
    "# print(classification_report(validation_labels,predictionsExt))\n",
    "# print('Extra Tree Classifier Testing F1 score =', f1ScoreExt )"
   ]
  },
  {
   "cell_type": "code",
   "execution_count": 39,
   "metadata": {
    "colab": {
     "base_uri": "https://localhost:8080/"
    },
    "executionInfo": {
     "elapsed": 61520,
     "status": "ok",
     "timestamp": 1605825286626,
     "user": {
      "displayName": "Bijayani Sanghamitra Mishra",
      "photoUrl": "https://lh3.googleusercontent.com/a-/AOh14GjXbd-WSvn1uoy2t6WqTaqJOcmOFf36QnNhM6J3Zw=s64",
      "userId": "00155184308005087027"
     },
     "user_tz": 480
    },
    "id": "lZYq-_0wdblj",
    "outputId": "c0e62885-ff1c-4489-863e-d570d1cdfebe"
   },
   "outputs": [
    {
     "name": "stdout",
     "output_type": "stream",
     "text": [
      "              precision    recall  f1-score   support\n",
      "\n",
      "           1       0.83      0.82      0.82      1803\n",
      "           2       0.83      0.79      0.81      1801\n",
      "           3       0.96      0.99      0.97      1802\n",
      "           4       1.00      1.00      1.00      1722\n",
      "           5       1.00      1.00      1.00      1725\n",
      "           6       1.00      1.00      1.00      1751\n",
      "           7       1.00      1.00      1.00      1786\n",
      "           8       0.98      1.00      0.99      1781\n",
      "          10       1.00      1.00      1.00      1784\n",
      "          11       1.00      1.00      1.00      1727\n",
      "\n",
      "    accuracy                           0.96     17682\n",
      "   macro avg       0.96      0.96      0.96     17682\n",
      "weighted avg       0.96      0.96      0.96     17682\n",
      "\n",
      " Voting F1 score = 0.9587869142684035\n"
     ]
    }
   ],
   "source": [
    "#voting Classifier.\n",
    "votingClf = VotingClassifier(estimators=[('rf', rfClf), ('knn', knnClf), ('ext', extClf)], voting='hard')\n",
    "votingClf.fit(training_data,training_labels)\n",
    "predictionsVoting = votingClf.predict(validation_data)\n",
    "f1score = metrics.f1_score(predictionsVoting,validation_labels, average='macro')\n",
    "print(classification_report(validation_labels,predictionsVoting))\n",
    "print(' Voting F1 score =', f1score )"
   ]
  },
  {
   "cell_type": "code",
   "execution_count": 42,
   "metadata": {
    "colab": {
     "base_uri": "https://localhost:8080/"
    },
    "executionInfo": {
     "elapsed": 66933,
     "status": "ok",
     "timestamp": 1605825447708,
     "user": {
      "displayName": "Bijayani Sanghamitra Mishra",
      "photoUrl": "https://lh3.googleusercontent.com/a-/AOh14GjXbd-WSvn1uoy2t6WqTaqJOcmOFf36QnNhM6J3Zw=s64",
      "userId": "00155184308005087027"
     },
     "user_tz": 480
    },
    "id": "fhkeOQ_rxWr7",
    "outputId": "625c8fe4-5163-4d59-af92-aca722981368"
   },
   "outputs": [
    {
     "data": {
      "text/plain": [
       "VotingClassifier(estimators=[('rf',\n",
       "                              RandomForestClassifier(bootstrap=True,\n",
       "                                                     ccp_alpha=0.0,\n",
       "                                                     class_weight=None,\n",
       "                                                     criterion='gini',\n",
       "                                                     max_depth=None,\n",
       "                                                     max_features='auto',\n",
       "                                                     max_leaf_nodes=None,\n",
       "                                                     max_samples=None,\n",
       "                                                     min_impurity_decrease=0.0,\n",
       "                                                     min_impurity_split=None,\n",
       "                                                     min_samples_leaf=1,\n",
       "                                                     min_samples_split=2,\n",
       "                                                     min_weight_fraction_leaf=0.0,\n",
       "                                                     n_estimators=100,\n",
       "                                                     n_jobs=-1, oob_score=F...\n",
       "                                                   criterion='gini',\n",
       "                                                   max_depth=None,\n",
       "                                                   max_features='auto',\n",
       "                                                   max_leaf_nodes=None,\n",
       "                                                   max_samples=None,\n",
       "                                                   min_impurity_decrease=0.0,\n",
       "                                                   min_impurity_split=None,\n",
       "                                                   min_samples_leaf=1,\n",
       "                                                   min_samples_split=2,\n",
       "                                                   min_weight_fraction_leaf=0.0,\n",
       "                                                   n_estimators=500,\n",
       "                                                   n_jobs=None, oob_score=False,\n",
       "                                                   random_state=None, verbose=0,\n",
       "                                                   warm_start=False))],\n",
       "                 flatten_transform=True, n_jobs=None, voting='hard',\n",
       "                 weights=None)"
      ]
     },
     "execution_count": 42,
     "metadata": {
      "tags": []
     },
     "output_type": "execute_result"
    }
   ],
   "source": [
    "#Applying voting Classifier for whole training dataset.\n",
    "votingClfFinal = VotingClassifier(estimators=[('rf', rfClf), ('knn', knnClf), ('ext', extClf)], voting='hard')\n",
    "votingClfFinal.fit(x_result,y_result)"
   ]
  },
  {
   "cell_type": "code",
   "execution_count": 43,
   "metadata": {
    "executionInfo": {
     "elapsed": 2503,
     "status": "ok",
     "timestamp": 1605825495579,
     "user": {
      "displayName": "Bijayani Sanghamitra Mishra",
      "photoUrl": "https://lh3.googleusercontent.com/a-/AOh14GjXbd-WSvn1uoy2t6WqTaqJOcmOFf36QnNhM6J3Zw=s64",
      "userId": "00155184308005087027"
     },
     "user_tz": 480
    },
    "id": "dY84PfNYmHPo"
   },
   "outputs": [],
   "source": [
    "#predicting for the test data set.\n",
    "predictions = votingClfFinal.predict(Xtest)"
   ]
  },
  {
   "cell_type": "code",
   "execution_count": 44,
   "metadata": {
    "executionInfo": {
     "elapsed": 277,
     "status": "ok",
     "timestamp": 1605825498026,
     "user": {
      "displayName": "Bijayani Sanghamitra Mishra",
      "photoUrl": "https://lh3.googleusercontent.com/a-/AOh14GjXbd-WSvn1uoy2t6WqTaqJOcmOFf36QnNhM6J3Zw=s64",
      "userId": "00155184308005087027"
     },
     "user_tz": 480
    },
    "id": "UMCJXvxnip9w"
   },
   "outputs": [],
   "source": [
    "#printing the submission file.\n",
    "ItemID=[]\n",
    "for i in range(1,testData.shape[0]+1):\n",
    "    ItemID.append(i);\n",
    "with open('output.csv', 'w') as fw:\n",
    "    print(\"{0}{1}{2}\".format('ImageID',',','Class'),file=fw)\n",
    "    for i,v in zip(ItemID,predictions):\n",
    "        print(\"{0}{1}{2}\".format(i,',',v), file=fw)"
   ]
  },
  {
   "cell_type": "code",
   "execution_count": null,
   "metadata": {
    "id": "jhciKpBjiwT1"
   },
   "outputs": [],
   "source": []
  },
  {
   "cell_type": "code",
   "execution_count": null,
   "metadata": {
    "id": "AB-rvBRniwYA"
   },
   "outputs": [],
   "source": []
  },
  {
   "cell_type": "code",
   "execution_count": null,
   "metadata": {
    "id": "Vp7gNiOOiwci"
   },
   "outputs": [],
   "source": []
  },
  {
   "cell_type": "code",
   "execution_count": null,
   "metadata": {
    "id": "1jLOKuWRiwfO"
   },
   "outputs": [],
   "source": []
  },
  {
   "cell_type": "code",
   "execution_count": null,
   "metadata": {
    "id": "k6yUiunQiwh3"
   },
   "outputs": [],
   "source": []
  },
  {
   "cell_type": "code",
   "execution_count": null,
   "metadata": {
    "id": "DUmsGGGmwY3m"
   },
   "outputs": [],
   "source": []
  },
  {
   "cell_type": "code",
   "execution_count": null,
   "metadata": {
    "id": "42ob6pdo04kM"
   },
   "outputs": [],
   "source": []
  },
  {
   "cell_type": "code",
   "execution_count": null,
   "metadata": {
    "id": "UB2jOZ_t08Il"
   },
   "outputs": [],
   "source": []
  },
  {
   "cell_type": "code",
   "execution_count": null,
   "metadata": {
    "id": "J5dKLz-p_354"
   },
   "outputs": [],
   "source": []
  },
  {
   "cell_type": "code",
   "execution_count": null,
   "metadata": {
    "id": "GA7NW6wUA4P3"
   },
   "outputs": [],
   "source": []
  },
  {
   "cell_type": "code",
   "execution_count": null,
   "metadata": {
    "id": "oC3yi0z31FcD"
   },
   "outputs": [],
   "source": []
  },
  {
   "cell_type": "code",
   "execution_count": null,
   "metadata": {
    "id": "qMhJlH-S1RNf"
   },
   "outputs": [],
   "source": []
  },
  {
   "cell_type": "code",
   "execution_count": null,
   "metadata": {
    "id": "7hGFyqgB4jGH"
   },
   "outputs": [],
   "source": []
  },
  {
   "cell_type": "code",
   "execution_count": null,
   "metadata": {
    "id": "EXk5RZfr5fYN"
   },
   "outputs": [],
   "source": []
  },
  {
   "cell_type": "code",
   "execution_count": null,
   "metadata": {
    "id": "SDAUZ96WDUCH"
   },
   "outputs": [],
   "source": []
  },
  {
   "cell_type": "code",
   "execution_count": null,
   "metadata": {
    "id": "GN9QcosG5tVn"
   },
   "outputs": [],
   "source": []
  },
  {
   "cell_type": "code",
   "execution_count": null,
   "metadata": {
    "id": "DnOo1bHdPtSM"
   },
   "outputs": [],
   "source": []
  },
  {
   "cell_type": "code",
   "execution_count": null,
   "metadata": {
    "id": "2dWsg9M75vez"
   },
   "outputs": [],
   "source": []
  },
  {
   "cell_type": "code",
   "execution_count": null,
   "metadata": {
    "id": "OcCR-Y2qQFDm"
   },
   "outputs": [],
   "source": []
  },
  {
   "cell_type": "code",
   "execution_count": null,
   "metadata": {
    "id": "0XhlfeAEPIAO"
   },
   "outputs": [],
   "source": []
  },
  {
   "cell_type": "code",
   "execution_count": null,
   "metadata": {
    "id": "SQXiN5ADyrPJ"
   },
   "outputs": [],
   "source": []
  },
  {
   "cell_type": "code",
   "execution_count": null,
   "metadata": {
    "id": "rtIvVBuvUbr_"
   },
   "outputs": [],
   "source": []
  },
  {
   "cell_type": "code",
   "execution_count": null,
   "metadata": {
    "id": "2mj5V-GeekkR"
   },
   "outputs": [],
   "source": []
  },
  {
   "cell_type": "code",
   "execution_count": null,
   "metadata": {
    "id": "lL0p_Pj46E66"
   },
   "outputs": [],
   "source": []
  },
  {
   "cell_type": "code",
   "execution_count": null,
   "metadata": {
    "id": "trVzijp36aBH"
   },
   "outputs": [],
   "source": []
  },
  {
   "cell_type": "code",
   "execution_count": null,
   "metadata": {
    "id": "8kzWWpAmdc6o"
   },
   "outputs": [],
   "source": []
  },
  {
   "cell_type": "code",
   "execution_count": null,
   "metadata": {
    "id": "Vq8aOoCKdoQW"
   },
   "outputs": [],
   "source": []
  },
  {
   "cell_type": "code",
   "execution_count": null,
   "metadata": {
    "id": "EzoHcDvpla2c"
   },
   "outputs": [],
   "source": []
  },
  {
   "cell_type": "code",
   "execution_count": null,
   "metadata": {
    "id": "Fk8tU7T0lssR"
   },
   "outputs": [],
   "source": []
  },
  {
   "cell_type": "code",
   "execution_count": null,
   "metadata": {
    "id": "EE_gX0QQ6Wfb"
   },
   "outputs": [],
   "source": []
  },
  {
   "cell_type": "code",
   "execution_count": null,
   "metadata": {
    "id": "cHKNLVn-63Ln"
   },
   "outputs": [],
   "source": []
  },
  {
   "cell_type": "code",
   "execution_count": null,
   "metadata": {
    "id": "1Bm4rgwv7sUY"
   },
   "outputs": [],
   "source": []
  },
  {
   "cell_type": "code",
   "execution_count": null,
   "metadata": {
    "id": "uq14z8zr8BpR"
   },
   "outputs": [],
   "source": []
  }
 ],
 "metadata": {
  "colab": {
   "collapsed_sections": [],
   "machine_shape": "hm",
   "name": "Image_classification.ipynb",
   "provenance": []
  },
  "kernelspec": {
   "display_name": "Python 3",
   "language": "python",
   "name": "python3"
  },
  "language_info": {
   "codemirror_mode": {
    "name": "ipython",
    "version": 3
   },
   "file_extension": ".py",
   "mimetype": "text/x-python",
   "name": "python",
   "nbconvert_exporter": "python",
   "pygments_lexer": "ipython3",
   "version": "3.8.3"
  }
 },
 "nbformat": 4,
 "nbformat_minor": 1
}
